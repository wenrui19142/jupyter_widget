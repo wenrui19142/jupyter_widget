{
 "cells": [
  {
   "cell_type": "markdown",
   "metadata": {},
   "source": [
    "\n",
    "# Jupyter Widgets 教程简介\n",
    "\n",
    "## 如何提问\n",
    "\n",
    "有一个“举手”按钮，但请使用聊天或问答功能。我们更倾向于使用聊天，这样我们可以通过实时互动回答你的问题。如果有特别有趣或重要的问题，我们可以暂停演示来回答它们。除非我们暂停教程，否则无法回答问答区的问题。\n",
    "\n",
    "## Jupyter Lab 基本操作\n",
    "\n",
    "+ 打开一个笔记本：在文件浏览器中双击它。\n",
    "+ 隐藏文件浏览器：点击文件夹图标。\n",
    "+ 运行笔记本中的单个代码单元格：按 `Shift` 和 `Enter`，或者使用“播放”按钮。\n",
    "+ 为输出创建一个新的视图：右键点击输出，选择“为输出创建新视图”。\n",
    "+ 使用 Tab 键自动补全，Shift + Tab 显示文档。\n",
    "+ 使用 CTRL + \"/\" 来注释/取消注释代码。"
   ]
  },
  {
   "cell_type": "markdown",
   "metadata": {},
   "source": [
    " \n",
    "## 交互式 Jupyter 小部件\n",
    "\n",
    "Python 小部件是一个对象，代表前端上的控件，比如滑动条。一个控件可以显示多次——它们都代表相同的 Python 对象。"
   ]
  },
  {
   "cell_type": "code",
   "execution_count": null,
   "metadata": {},
   "outputs": [],
   "source": [
    "import ipywidgets as widgets"
   ]
  },
  {
   "cell_type": "code",
   "execution_count": null,
   "metadata": {},
   "outputs": [],
   "source": [
    "slider = widgets.FloatSlider(\n",
    "    value=7.5,\n",
    "    min=5.0,\n",
    "    max=10.0,\n",
    "    step=0.1,\n",
    "    description='Input:',\n",
    ")\n",
    "\n",
    "slider"
   ]
  },
  {
   "cell_type": "markdown",
   "metadata": {},
   "source": [
    "你可以通过“观察”控件的值来在内核中触发操作。当控件的值发生变化时，这将执行相应的操作。下面是一个例子，展示了如何在滑动条值发生变化时设置一个全局变量。"
   ]
  },
  {
   "cell_type": "code",
   "execution_count": null,
   "metadata": {
    "scrolled": true
   },
   "outputs": [],
   "source": [
    "square = slider.value * slider.value\n",
    "\n",
    "def handle_change(change):\n",
    "    global square\n",
    "    square = change.new * change.new\n",
    "    \n",
    "slider.observe(handle_change, 'value')"
   ]
  },
  {
   "cell_type": "code",
   "execution_count": null,
   "metadata": {},
   "outputs": [],
   "source": [
    "square"
   ]
  },
  {
   "cell_type": "markdown",
   "metadata": {},
   "source": [
    " \n",
    "## `interact`：用于检查函数的快捷方式\n",
    "\n",
    "`interact` 函数根据函数的参数生成小部件，并显示函数的输出。它是一个非常方便的工具，可以自动创建与函数参数相关的交互式控件，并实时显示结果。\n"
   ]
  },
  {
   "cell_type": "code",
   "execution_count": null,
   "metadata": {},
   "outputs": [],
   "source": [
    "def f(x):\n",
    "    print(x * x)"
   ]
  },
  {
   "cell_type": "code",
   "execution_count": null,
   "metadata": {},
   "outputs": [],
   "source": [
    "f(9)"
   ]
  },
  {
   "cell_type": "code",
   "execution_count": null,
   "metadata": {},
   "outputs": [],
   "source": [
    "import ipywidgets as ipw"
   ]
  },
  {
   "cell_type": "code",
   "execution_count": null,
   "metadata": {},
   "outputs": [],
   "source": [
    "widgets.interact(f, x=(0, 100));"
   ]
  },
  {
   "cell_type": "markdown",
   "metadata": {},
   "source": [
    " \n",
    "## 如何加载练习解答\n",
    "\n",
    "某些练习提供了解答，如果你愿意，可以加载它们。为此，只需取消注释包含 `%load` 的那一行，然后运行该单元格 **两次**。第一次运行会加载解答，第二次运行会执行解答。\n",
    "\n",
    "下面是一个短小的练习，尝试使用这个方法：\n",
    "\n",
    "**在下面的单元格中，使用 `interact` 生成一个从 -10 到 10 的滑动条**"
   ]
  },
  {
   "cell_type": "code",
   "execution_count": null,
   "metadata": {},
   "outputs": [],
   "source": [
    "# %load solutions/intro/intro-example.py"
   ]
  },
  {
   "cell_type": "markdown",
   "metadata": {},
   "source": [
    " \n",
    "## 额外阅读\n",
    "\n",
    "### 幕后揭秘\n",
    "\n",
    "在幕后，即使是纯 Python 小部件也由两个部分组成：\n",
    "\n",
    "+ Python，运行在笔记本的内核中。\n",
    "+ JavaScript，运行在浏览器中。\n",
    "\n",
    "当编写你自己的小部件时，这意味着要做出选择：仅用 Python 编写，还是同时使用 Python 和 JavaScript 编写。\n",
    "\n",
    "选择哪种方式取决于你想实现的目标。本教程将专注于仅使用 Python 编写小部件。一个包含一些有趣界面的纯 Python 包的例子是 [reducer](http://reducer.readthedocs.io)，这是一个用于校准天文数据的包。"
   ]
  },
  {
   "cell_type": "markdown",
   "metadata": {},
   "source": [
    " \n",
    " \n",
    "### Jupyter 小部件作为一个框架\n",
    "\n",
    "Jupyter 小部件构成了一个框架，用于交互式地表示 Python 对象。以下是一些基于 Jupyter 小部件的大型开源交互控件：\n",
    "\n",
    "- [bqplot](https://github.com/bqplot/bqplot/blob/master/examples/Index.ipynb) - 一个 2D 绘图库，其中显示的所有内容都是小部件\n",
    "- [ipympl](https://github.com/matplotlib/ipympl) - 用于 [matplotlib](https://matplotlib.org/3.2.2/contents.html) 图形的控件后端\n",
    "- [pythreejs](https://pythreejs.readthedocs.io/en/stable/index.html) - 低级 3D 图形库\n",
    "- [ipyvolume](https://ipyvolume.readthedocs.io/en/latest/) - 3D 绘图和体积渲染\n",
    "- [ipyleaflet](https://ipyleaflet.readthedocs.io/en/latest/) - 交互式地图\n",
    "- [ipywebrtc](https://github.com/maartenbreddels/ipywebrtc) - 视频流媒体\n",
    "- [ipysheet](https://ipysheet.readthedocs.io/en/latest/) - 交互式电子表格\n",
    "- [ipytree](https://github.com/QuantStack/ipytree) - 用于查看层级材料的树形结构\n",
    "- [ipycanvas](https://ipycanvas.readthedocs.io/en/latest/?badge=latest) - 在笔记本中进行交互式绘图\n",
    "- [ipyevents](https://github.com/mwcraig/ipyevents/blob/master/doc/Widget%20DOM%20Events.ipynb) - 捕获小部件上的鼠标/键盘事件\n",
    "- ..."
   ]
  }
 ],
 "metadata": {
  "kernelspec": {
   "display_name": "Python 3",
   "language": "python",
   "name": "python3"
  },
  "language_info": {
   "codemirror_mode": {
    "name": "ipython",
    "version": 3
   },
   "file_extension": ".py",
   "mimetype": "text/x-python",
   "name": "python",
   "nbconvert_exporter": "python",
   "pygments_lexer": "ipython3",
   "version": "3.8.10"
  },
  "widgets": {
   "state": {
    "0cb2d81d826b4e25aba3b1d39711ef3f": {
     "views": [
      {
       "cell_index": 6
      }
     ]
    },
    "2cfe6521f9834ca69e54518716104cd2": {
     "views": [
      {
       "cell_index": 8
      },
      {
       "cell_index": 9
      },
      {
       "cell_index": 12
      }
     ]
    },
    "889356d59ac543a49da33d134d791c3f": {
     "views": [
      {
       "cell_index": 11
      }
     ]
    }
   },
   "version": "2.0.0-dev"
  }
 },
 "nbformat": 4,
 "nbformat_minor": 4
}

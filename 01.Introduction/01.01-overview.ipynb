{
 "cells": [
  {
   "cell_type": "markdown",
   "metadata": {},
   "source": [
    " \n",
    "# 概述\n",
    "\n",
    "随着越来越多的工具被编写并集成到 Jupyter 小部件生态系统中，仅使用 Python 所能实现的功能在过去几年中大大增加。\n",
    "\n",
    "其中一个工具是 [bqplot](https://github.com/bloomberg/bqplot/blob/master/examples/Index.ipynb)，它提供了一个绘图工具，其中图表、线条、标记、标签和图例都作为小部件进行交互。bqplot 是使用 Python *和* JavaScript 开发的。在 JavaScript 方面，bqplot 使用了 [d3](https://d3js.org/) 来在浏览器中进行绘制。\n",
    "\n",
    "广泛使用的绘图库 [matplotlib](https://matplotlib.org/3.2.2/contents.html) 也有一个小部件接口。通过在笔记本中使用 `%matplotlib widget`，你可以获得交互式的小部件绘图。更多使用详情可以参考 [ipympl](https://github.com/matplotlib/ipympl) 的文档。\n",
    "\n",
    "另一个例子是 [ipyvolume](https://ipyvolume.readthedocs.io/en/latest/)，它在浏览器中进行三维点或体积数据的渲染。它既有 Python 代码也有 JavaScript 代码，但使用它时只需要 Python。\n",
    "\n",
    "最后的补充是 `ipywidgets` 本身：新的 `Output` 小部件可以显示任何可以在 Jupyter 笔记本中渲染的内容。这意味着你可以使用仅 Python 的方式，将任何在笔记本中显示的内容包括在小部件中。"
   ]
  },
  {
   "cell_type": "markdown",
   "metadata": {},
   "source": [
    " \n",
    "## 示例 1：COVID 仪表盘（纯 Python）\n",
    "\n",
    "+ 仪表盘： [http://jupyter.mnstate.edu/COVID](http://jupyter.mnstate.edu/COVID)\n",
    "+ 代码： [https://github.com/JuanCab/COVID_DataViz](https://github.com/JuanCab/COVID_DataViz)（查看 `Dashboard.ipynb`）\n",
    "\n",
    "橙色框是 [ipympl](); 品红色框是 [ipyleaflet](https://ipyleaflet.readthedocs.io/en/latest/); 其余的小部件来自 [ipywidgets](https://ipywidgets.readthedocs.io/en/stable/)。\n",
    "\n",
    "|    |    |\n",
    "|----|----|\n",
    "![COVID 仪表盘截图](images/covid-dash1.png) | ![COVID 仪表盘地图截图](images/covid-dash2.png)"
   ]
  },
  {
   "cell_type": "markdown",
   "metadata": {},
   "source": [
    " \n",
    "## 示例 2：双星模拟（纯 Python）\n",
    "\n",
    "+ 绿色： [pythreejs](https://github.com/jupyter-widgets/pythreejs)\n",
    "+ 蓝色： [bqplot](https://github.com/bloomberg/bqplot/blob/master/examples/Index.ipynb)\n",
    "+ 其他所有部分： [ipywidgets](https://github.com/jupyter-widgets/ipywidgets)\n",
    "+ 在开发过程中通过 [mybinder.org](https://mybinder.org/) 提供给用户使用\n",
    "\n",
    "![双星模拟器](images/Binary_Star_Sim.png)\n",
    "\n",
    "### 示例的源代码（包括 Binder 链接）： [https://github.com/JuanCab/AstroInteractives](https://github.com/JuanCab/AstroInteractives)\n",
    "\n",
    "[视频](https://youtu.be/kbgST0uifvM)"
   ]
  }
 ],
 "metadata": {
  "kernelspec": {
   "display_name": "Python 3",
   "language": "python",
   "name": "python3"
  },
  "language_info": {
   "codemirror_mode": {
    "name": "ipython",
    "version": 3
   },
   "file_extension": ".py",
   "mimetype": "text/x-python",
   "name": "python",
   "nbconvert_exporter": "python",
   "pygments_lexer": "ipython3",
   "version": "3.8.5"
  }
 },
 "nbformat": 4,
 "nbformat_minor": 4
}

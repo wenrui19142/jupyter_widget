{
 "cells": [
  {
   "cell_type": "code",
   "execution_count": null,
   "metadata": {},
   "outputs": [],
   "source": [
    "from ipywidgets import interact, interactive, fixed, interact_manual\n",
    "import ipywidgets as widgets"
   ]
  },
  {
   "cell_type": "markdown",
   "metadata": {},
   "source": [
    "# 可选 - 更多关于 interact\n",
    "\n",
    "本笔记本介绍了更多自动生成小部件的方法。"
   ]
  },
  {
   "cell_type": "markdown",
   "metadata": {},
   "source": [
    "## `interactive`\n",
    "\n",
    "除了 `interact`，IPython 还提供了另一个函数 `interactive`，当你想要重用生成的小部件或访问绑定到 UI 控件的数据时，这个函数非常有用。\n",
    "\n",
    "需要注意的是，与 `interact` 不同，函数的返回值不会自动显示，但你可以使用 `IPython.display.display` 在函数内部显示一个值。"
   ]
  },
  {
   "cell_type": "markdown",
   "metadata": {},
   "source": [
    "这是一个显示其两个参数和的函数，并返回该和。如果不想显示函数的结果，可以省略 `display` 语句。"
   ]
  },
  {
   "cell_type": "code",
   "execution_count": null,
   "metadata": {},
   "outputs": [],
   "source": [
    "from IPython.display import display\n",
    "\n",
    "def f(a, b):\n",
    "    display(a + b)\n",
    "    return a+b"
   ]
  },
  {
   "cell_type": "markdown",
   "metadata": {},
   "source": [
    "与 `interact` 不同，`interactive` 返回一个 `Widget` 实例，而不是立即显示小部件。"
   ]
  },
  {
   "cell_type": "code",
   "execution_count": null,
   "metadata": {},
   "outputs": [],
   "source": [
    "w = interactive(f, a=10, b=20)"
   ]
  },
  {
   "cell_type": "markdown",
   "metadata": {},
   "source": [
    "该小部件是 `interactive`，它是 `VBox` 的子类，`VBox` 是一个容器，用于容纳其他小部件。"
   ]
  },
  {
   "cell_type": "code",
   "execution_count": null,
   "metadata": {},
   "outputs": [],
   "source": [
    "type(w)"
   ]
  },
  {
   "cell_type": "markdown",
   "metadata": {},
   "source": [
    "`interactive` 的子小部件包括两个整数值的滑块和一个输出小部件，这些是通过上述小部件缩写生成的。"
   ]
  },
  {
   "cell_type": "code",
   "execution_count": null,
   "metadata": {},
   "outputs": [],
   "source": [
    "w.children"
   ]
  },
  {
   "cell_type": "markdown",
   "metadata": {},
   "source": [
    "要实际显示小部件，可以使用 IPython 的 `display` 函数。"
   ]
  },
  {
   "cell_type": "code",
   "execution_count": null,
   "metadata": {},
   "outputs": [],
   "source": [
    "display(w)"
   ]
  },
  {
   "cell_type": "markdown",
   "metadata": {},
   "source": [
    "此时，UI 控件的工作方式与使用 `interact` 时完全相同。你可以交互式地操作它们，函数将被调用。然而，`interactive` 返回的小部件实例还使你能够访问底层 Python 函数的当前关键字参数和返回值。\n",
    "\n",
    "以下是当前的关键字参数。如果在操作滑块后重新运行此单元格，值将发生变化。"
   ]
  },
  {
   "cell_type": "code",
   "execution_count": null,
   "metadata": {},
   "outputs": [],
   "source": [
    "w.kwargs"
   ]
  },
  {
   "cell_type": "markdown",
   "metadata": {},
   "source": [
    "这是当前函数的返回值。"
   ]
  },
  {
   "cell_type": "code",
   "execution_count": null,
   "metadata": {},
   "outputs": [],
   "source": [
    "w.result"
   ]
  },
  {
   "cell_type": "markdown",
   "metadata": {},
   "source": [
    "## 禁用连续更新"
   ]
  },
  {
   "cell_type": "markdown",
   "metadata": {},
   "source": [
    "在与长时间运行的函数交互时，或者即使是短函数但其结果需要一些时间才能显示时，实时反馈可能会变成一种负担，而不是帮助。你可能注意到，在调整控件时，某些小部件的输出会出现“闪烁”。默认情况下，`interact` 和 `interactive` 会在每次更新小部件值时调用函数。"
   ]
  },
  {
   "cell_type": "markdown",
   "metadata": {},
   "source": [
    "有两种方法可以减轻这个问题。你可以选择只在需要时执行，或者限制执行仅在鼠标释放事件发生时进行。"
   ]
  },
  {
   "cell_type": "markdown",
   "metadata": {},
   "source": [
    "### `interact_manual`"
   ]
  },
  {
   "cell_type": "markdown",
   "metadata": {},
   "source": [
    "`interact_manual` 函数提供了一种交互变体，允许你限制执行，使其仅在需要时进行。它在交互控件中添加了一个按钮，允许你触发执行事件。"
   ]
  },
  {
   "cell_type": "code",
   "execution_count": null,
   "metadata": {},
   "outputs": [],
   "source": [
    "def slow_function(i):\n",
    "    \"\"\"\n",
    "    Sleep for 1 second then print the argument\n",
    "    \"\"\"\n",
    "    from time import sleep\n",
    "    print('Sleeping...')\n",
    "    sleep(1)\n",
    "    print(i)\n",
    "\n",
    "interact_manual(slow_function,i=widgets.FloatSlider(min=1e4, max=1e6, step=1e4));"
   ]
  },
  {
   "cell_type": "markdown",
   "metadata": {},
   "source": [
    "你可以通过使用 `dict` 作为第二个参数，在 `interactive` 中实现相同的功能，如下所示。"
   ]
  },
  {
   "cell_type": "code",
   "execution_count": null,
   "metadata": {},
   "outputs": [],
   "source": [
    "foo = interactive(slow_function, {'manual': True}, i=widgets.FloatSlider(min=1e4, max=1e6, step=1e4))\n",
    "foo"
   ]
  },
  {
   "cell_type": "markdown",
   "metadata": {},
   "source": [
    "### `continuous_update`"
   ]
  },
  {
   "cell_type": "markdown",
   "metadata": {},
   "source": [
    "如果你使用滑块小部件，可以将 `continuous_update` 关键字参数设置为 `False`。`continuous_update` 是滑块小部件的一个关键字参数，它将函数执行限制为仅在鼠标释放事件时触发。\n",
    "\n",
    "在 ipywidgets 7 中，`Text` 和 `Textarea` 控件也有 `continuous_update` 参数。\n",
    "\n",
    "下面的第一个示例在创建小部件时提供了 `continuous_update` 参数。"
   ]
  },
  {
   "cell_type": "code",
   "execution_count": null,
   "metadata": {},
   "outputs": [],
   "source": [
    "interact(slow_function,i=widgets.FloatSlider(min=1e4, max=1e6, step=5e4, continuous_update=False));"
   ]
  },
  {
   "cell_type": "markdown",
   "metadata": {},
   "source": [
    "## 更多控制用户界面：`interactive_output`\n",
    "\n",
    "`interactive_output` 提供了额外的灵活性：你可以控制 UI 元素的布局。\n",
    "\n",
    "与 `interact`、`interactive` 和 `interact_manual` 不同，`interactive_output` 不会为小部件生成用户界面。这非常强大，因为它意味着你可以创建一个小部件，将其放入一个容器中，然后将小部件传递给 `interactive_output`，从而控制小部件及其布局。"
   ]
  },
  {
   "cell_type": "code",
   "execution_count": null,
   "metadata": {},
   "outputs": [],
   "source": [
    "a = widgets.IntSlider()\n",
    "b = widgets.IntSlider()\n",
    "c = widgets.IntSlider()\n",
    "\n",
    "# An HBox lays out its children horizontally\n",
    "ui = widgets.HBox([a, b, c])\n",
    "\n",
    "def f(a, b, c):\n",
    "    # You can use print here instead of display because interactive_output generates a normal notebook \n",
    "    # output area.\n",
    "    print((a, b, c))\n",
    "\n",
    "out = widgets.interactive_output(f, {'a': a, 'b': b, 'c': c})\n",
    "\n",
    "display(ui, out)"
   ]
  },
  {
   "cell_type": "markdown",
   "metadata": {},
   "source": [
    "# 更多信息\n",
    "\n",
    "有关 `interact` 和 `interactive` 的更多扩展示例，请参见 [ipywidgets 源代码库中的示例](https://github.com/jupyter-widgets/ipywidgets/blob/master/docs/source/examples/Index.ipynb)。"
   ]
  }
 ],
 "metadata": {
  "kernelspec": {
   "display_name": "widgets-tutorial",
   "language": "python",
   "name": "widgets-tutorial"
  },
  "language_info": {
   "codemirror_mode": {
    "name": "ipython",
    "version": 3
   },
   "file_extension": ".py",
   "mimetype": "text/x-python",
   "name": "python",
   "nbconvert_exporter": "python",
   "pygments_lexer": "ipython3",
   "version": "3.8.3"
  }
 },
 "nbformat": 4,
 "nbformat_minor": 4
}

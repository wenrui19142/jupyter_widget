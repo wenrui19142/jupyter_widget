{
 "cells": [
  {
   "cell_type": "markdown",
   "metadata": {},
   "source": [
    "# 无需编写的小部件：interact"
   ]
  },
  {
   "cell_type": "markdown",
   "metadata": {},
   "source": [
    "`interact` 函数（`ipywidgets.interact`）会自动创建用于交互式探索代码和数据的用户界面 (UI) 控件。它是开始使用 IPython 小部件的最简单方法。"
   ]
  },
  {
   "cell_type": "code",
   "execution_count": null,
   "metadata": {
    "tags": []
   },
   "outputs": [],
   "source": [
    "from ipywidgets import interact, interactive, fixed, interact_manual\n",
    "import ipywidgets as widgets"
   ]
  },
  {
   "cell_type": "markdown",
   "metadata": {},
   "source": [
    " ## 基本的 `interact` "
   ]
  },
  {
   "cell_type": "markdown",
   "metadata": {},
   "source": [
    "在最基本的层面上，`interact` 会根据函数参数自动生成用户界面控件，然后在你交互操作这些控件时，用这些参数调用该函数。要使用 `interact`，你需要定义一个想要探索的函数。下面是一个将参数 `x` 乘以三的函数。"
   ]
  },
  {
   "cell_type": "code",
   "execution_count": null,
   "metadata": {},
   "outputs": [],
   "source": [
    "def f(x):\n",
    "    return 3 * x"
   ]
  },
  {
   "cell_type": "markdown",
   "metadata": {},
   "source": [
    "当你将这个函数作为第一个参数传递给 `interact`，并同时传递一个整数关键字参数 (`x=10`)，一个滑块控件会被生成，并与函数参数绑定。"
   ]
  },
  {
   "cell_type": "code",
   "execution_count": null,
   "metadata": {},
   "outputs": [],
   "source": [
    "interact(f, x=10);"
   ]
  },
  {
   "cell_type": "markdown",
   "metadata": {},
   "source": [
    "当你移动滑块时，函数会被调用，并打印返回值。\n",
    "\n",
    "如果你传递 `True` 或 `False`，`interact` 会生成一个复选框："
   ]
  },
  {
   "cell_type": "code",
   "execution_count": null,
   "metadata": {},
   "outputs": [],
   "source": [
    "interact(f, x=True);"
   ]
  },
  {
   "cell_type": "markdown",
   "metadata": {},
   "source": [
    "如果你传递一个字符串，`interact` 会生成一个 `Text` 输入框。"
   ]
  },
  {
   "cell_type": "code",
   "execution_count": null,
   "metadata": {},
   "outputs": [],
   "source": [
    "interact(f, x='Hi there!');"
   ]
  },
  {
   "cell_type": "markdown",
   "metadata": {},
   "source": [
    "`interact` 也可以作为一个装饰器使用。这允许你在定义函数的同时与其进行交互。正如这个例子所示，`interact` 也适用于具有多个参数的函数。"
   ]
  },
  {
   "cell_type": "code",
   "execution_count": null,
   "metadata": {},
   "outputs": [],
   "source": [
    "@widgets.interact(x=True, y=1.0)\n",
    "def g(x, y):\n",
    "    return (x, y)"
   ]
  },
  {
   "cell_type": "markdown",
   "metadata": {},
   "source": [
    "## 使用 `fixed` 固定参数"
   ]
  },
  {
   "cell_type": "markdown",
   "metadata": {},
   "source": [
    "有时你可能想使用 `interact` 探索一个函数，但将其一个或多个参数固定为特定值。可以通过使用 `fixed` 函数将值包装起来来实现这一点。"
   ]
  },
  {
   "cell_type": "code",
   "execution_count": null,
   "metadata": {},
   "outputs": [],
   "source": [
    "def h(p, q):\n",
    "    return (p, q)"
   ]
  },
  {
   "cell_type": "markdown",
   "metadata": {},
   "source": [
    "当我们调用 `interact` 时，我们传递 `fixed(20)` 给参数 `q`，以将其固定为值 `20`。"
   ]
  },
  {
   "cell_type": "code",
   "execution_count": null,
   "metadata": {},
   "outputs": [],
   "source": [
    "interact(h, p=5, q=fixed(20));"
   ]
  },
  {
   "cell_type": "markdown",
   "metadata": {},
   "source": [
    "请注意，由于 `q` 的值是固定的，所以只会为 `p` 生成一个滑块。"
   ]
  },
  {
   "cell_type": "markdown",
   "metadata": {},
   "source": [
    "## 小部件缩写"
   ]
  },
  {
   "cell_type": "markdown",
   "metadata": {},
   "source": [
    "当你将一个整数值的关键字参数 `10`（`x=10`）传递给 `interact` 时，它会生成一个整数值的滑块控件，范围为 `[-10, +3*10]`。在这种情况下，`10` 是一个 *缩写*，表示一个实际的滑块小部件：\n",
    "\n",
    "```python\n",
    "IntSlider(min=-10, max=30, step=1, value=10)\n",
    "```\n",
    "\n",
    "事实上，如果我们将这个 `IntSlider` 作为 `x` 的关键字参数传递，也可以得到相同的结果："
   ]
  },
  {
   "cell_type": "code",
   "execution_count": null,
   "metadata": {},
   "outputs": [],
   "source": [
    "interact(f, x=widgets.IntSlider(min=-10, max=30, step=1, value=10));"
   ]
  },
  {
   "cell_type": "markdown",
   "metadata": {},
   "source": [
    "这个例子阐明了 `interact` 如何处理其关键字参数：\n",
    "\n",
    "1. 如果关键字参数是一个具有 `value` 属性的 `Widget` 实例，那么该小部件会被使用。任何具有 `value` 属性的小部件都可以使用，甚至是自定义小部件。\n",
    "2. 否则，值会被视为一个 *小部件缩写*，在使用之前会被转换成小部件。\n",
    "\n",
    "以下表格概述了不同的小部件缩写：\n",
    "\n",
    "| **关键字参数**  | **小部件**         |\n",
    "|-----------------|--------------------|\n",
    "| `True` 或 `False` | 复选框 (Checkbox)   |\n",
    "| `'Hi there'`      | 文本框 (Text)       |\n",
    "| `value` 或 `(min, max)` 或 `(min, max, step)`（传递整数时） | 整数滑块 (IntSlider) |\n",
    "| `value` 或 `(min, max)` 或 `(min, max, step)`（传递浮点数时） | 浮动滑块 (FloatSlider) |\n",
    "| `['orange', 'apple']` 或 `[('one', 1), ('two', 2)]` | 下拉菜单 (Dropdown)  |\n",
    "\n",
    "请注意，如果给定的是一个列表或元组列表（表示离散选项），则会使用下拉菜单；如果给定的是一个元组（表示一个范围），则会使用滑块。"
   ]
  },
  {
   "cell_type": "markdown",
   "metadata": {},
   "source": [
    "你已经看到复选框和文本框小部件的使用方法。这里将提供关于滑块和下拉菜单缩写的更多细节。\n",
    "\n",
    "如果传递一个整数的二元组 `(min, max)`，则会生成一个具有这些最小值和最大值（包括在内）的整数值滑块。在这种情况下，默认的步长为 `1`。"
   ]
  },
  {
   "cell_type": "code",
   "execution_count": null,
   "metadata": {},
   "outputs": [],
   "source": [
    "interact(f, x=(0, 4));"
   ]
  },
  {
   "cell_type": "markdown",
   "metadata": {},
   "source": [
    "如果传递的值中有浮点数，则会生成一个 `FloatSlider`。通过在元组中传递第三个元素，可以更改步长。"
   ]
  },
  {
   "cell_type": "code",
   "execution_count": null,
   "metadata": {},
   "outputs": [],
   "source": [
    "interact(f, x=(0, 10, 0.01));"
   ]
  },
  {
   "cell_type": "markdown",
   "metadata": {},
   "source": [
    "### 练习：反转文本\n",
    "\n",
    "下面是一个接受文本作为输入并返回反转文本的函数。"
   ]
  },
  {
   "cell_type": "code",
   "execution_count": null,
   "metadata": {},
   "outputs": [],
   "source": [
    "def reverse(x):\n",
    "    return x[::-1]\n",
    "\n",
    "reverse('I am printed backwards.')"
   ]
  },
  {
   "cell_type": "markdown",
   "metadata": {},
   "source": [
    "使用 `interact` 为这个函数创建交互式控件："
   ]
  },
  {
   "cell_type": "code",
   "execution_count": null,
   "metadata": {
    "tags": []
   },
   "outputs": [],
   "source": [
    "# %load solutions/reverse-text.py"
   ]
  },
  {
   "cell_type": "markdown",
   "metadata": {},
   "source": [
    "对于整数和浮点数值的滑块，你可以通过将默认关键字参数传递给底层的 Python 函数来设置小部件的初始值。在这里，我们将浮动滑块的初始值设置为 `5.5`："
   ]
  },
  {
   "cell_type": "code",
   "execution_count": null,
   "metadata": {},
   "outputs": [],
   "source": [
    "@interact(x=(0.0, 20.0, 0.5))\n",
    "def h(x=5.5):\n",
    "    return x"
   ]
  },
  {
   "cell_type": "markdown",
   "metadata": {},
   "source": [
    "下拉菜单是通过传递一个字符串列表来构建的。在这种情况下，这些字符串既用作下拉菜单 UI 中的名称，也会传递给底层的 Python 函数。"
   ]
  },
  {
   "cell_type": "code",
   "execution_count": null,
   "metadata": {},
   "outputs": [],
   "source": [
    "interact(f, x=['apples','oranges']);"
   ]
  },
  {
   "cell_type": "markdown",
   "metadata": {},
   "source": [
    "如果你想要一个下拉菜单，传递非字符串值给 Python 函数，可以传递一个元组列表，格式为 `('label', value)`。元组中的第一个项是下拉菜单 UI 中的名称，第二个项是传递给底层 Python 函数的值。"
   ]
  },
  {
   "cell_type": "code",
   "execution_count": null,
   "metadata": {},
   "outputs": [],
   "source": [
    "interact(f, x=[('one', 10), ('two', 20)]);"
   ]
  },
  {
   "cell_type": "markdown",
   "metadata": {
    "tags": []
   },
   "source": [
    "## 基本的交互式图表\n",
    "\n",
    "下面的函数绘制一条直线，直线的斜率和截距由其参数给定。"
   ]
  },
  {
   "cell_type": "code",
   "execution_count": null,
   "metadata": {
    "tags": []
   },
   "outputs": [],
   "source": [
    "import matplotlib.pyplot as plt\n",
    "import numpy as np\n",
    "\n",
    "def f(m, b):\n",
    "    fig = plt.figure()\n",
    "    plt.clf()\n",
    "    plt.grid()\n",
    "    x = np.linspace(-10, 10, num=1000)\n",
    "    plt.plot(x, m * x + b)\n",
    "    plt.ylim(-5, 5)\n",
    "    plt.show()\n",
    "\n",
    "interact(f, m=(-2.0, 2.0), b=(-3, 3, 0.5))"
   ]
  },
  {
   "cell_type": "markdown",
   "metadata": {},
   "source": [
    "## 完全交互式图表\n",
    "\n",
    "虽然上面的例子有效，但它存在一些缺点：\n",
    "1. 重新运行所有绘图代码效率低下（每次都会重新创建整个图表——要查看这一点，可以先运行下面的单元格，然后再运行上面的代码，看看图形编号如何递增）。\n",
    "2. 无法进行缩放或平移。\n",
    "3. 移动滑块时，屏幕会发生跳动。\n",
    "\n",
    "一个更好的解决方案是使用 [ipympl](https://matplotlib.org/ipympl/) Matplotlib 后端。你可以通过行魔法 `%matplotlib ipympl` 来激活它。"
   ]
  },
  {
   "cell_type": "code",
   "execution_count": null,
   "metadata": {
    "tags": []
   },
   "outputs": [],
   "source": [
    "# Activate the widget based backend.\n",
    "%matplotlib ipympl\n",
    "\n",
    "x = np.linspace(-10, 10, num=1000)\n",
    "fig, ax = plt.subplots()\n",
    "ax.grid()\n",
    "ax.set_ylim(-5, 5)\n",
    "# Initialize a plot object with y = x. We'll be modifying y below.\n",
    "# This returns a list of `.Line2D` representing the plotted data. We grab the first one -- we only have 1 series.\n",
    "line = ax.plot(x, x)[0]\n",
    "\n",
    "@interact(m=(-2.0, 2.0), b=(-3, 3, 0.5))\n",
    "def update_line(m=1, b=0.5):\n",
    "    line.set_ydata(m * x + b)\n",
    "    # Request a widget redraw.\n",
    "    fig.canvas.draw_idle()"
   ]
  },
  {
   "cell_type": "markdown",
   "metadata": {},
   "source": [
    "## mpl-interactions\n",
    "\n",
    "[mpl-interactions](https://mpl-interactions.readthedocs.io/en/stable/) 库可以自动为你更新 Matplotlib 图表。传递给像 `plot` 这样的函数的非 Matplotlib 关键字参数将被解释为滑块和小部件控件，类似于 `interact`，并自动与 Matplotlib 图表连接。"
   ]
  },
  {
   "cell_type": "code",
   "execution_count": null,
   "metadata": {
    "tags": []
   },
   "outputs": [],
   "source": [
    "from mpl_interactions import ipyplot as iplt\n",
    "\n",
    "fig, ax = plt.subplots()\n",
    "ax.grid()\n",
    "ax.set_ylim(-5,5)\n",
    "\n",
    "# Define function in a way you can re-use in calculations\n",
    "def f(x, m, b):\n",
    "    return m * x + b\n",
    "    \n",
    "ctrls = iplt.plot(x, f, m=(-2,2), b=(-3, 3, 10))"
   ]
  },
  {
   "cell_type": "markdown",
   "metadata": {},
   "source": [
    "### 练习：绘制图表\n",
    "\n",
    "下面是绘制函数 $f(x) = \\sin(k x - p)$ 的例子。\n"
   ]
  },
  {
   "cell_type": "code",
   "execution_count": null,
   "metadata": {
    "tags": []
   },
   "outputs": [],
   "source": [
    "x = np.linspace(0, 4 * np.pi, 100)\n",
    "k = 1\n",
    "p = np.pi\n",
    "\n",
    "def f(x, k, p):\n",
    "    return np.sin(k*x -p)\n",
    "fig, ax = plt.subplots()\n",
    "ax.grid()\n",
    "ax.plot(x, f(x, k, p))"
   ]
  },
  {
   "cell_type": "markdown",
   "metadata": {},
   "source": [
    "复制上述函数定义，并使用 `interact` 或 `mpl-interactions` 使其具有交互性，为参数 $k$ 和 $p$ 添加滑块，其中 $0.5 \\leq k \\leq 2$ 且 $0 \\leq p \\leq 2\\pi$（提示：使用 `np.pi` 来表示 $\\pi$）。"
   ]
  },
  {
   "cell_type": "code",
   "execution_count": null,
   "metadata": {
    "tags": []
   },
   "outputs": [],
   "source": [
    "# %load solutions/plot-function-interact.py"
   ]
  },
  {
   "cell_type": "code",
   "execution_count": null,
   "metadata": {
    "tags": []
   },
   "outputs": [],
   "source": [
    "# %load solutions/plot-function-mpl-inter.py"
   ]
  },
  {
   "cell_type": "markdown",
   "metadata": {},
   "source": [
    "# 更多信息\n",
    "\n",
    "请参阅下面的笔记本（“OPTIONAL More About Interact”），了解更多关于生成函数交互式控件的其他方法，以及如何控制滑块更新时机的详细信息。\n",
    "\n",
    "欲了解更多关于 `interact` 和 `interactive` 的扩展示例，请参阅 [ipywidgets 源代码库中的示例](https://github.com/jupyter-widgets/ipywidgets/blob/master/docs/source/examples/Index.ipynb)。"
   ]
  }
 ],
 "metadata": {
  "kernelspec": {
   "display_name": "widgets-tutorial",
   "language": "python",
   "name": "widgets-tutorial"
  },
  "language_info": {
   "codemirror_mode": {
    "name": "ipython",
    "version": 3
   },
   "file_extension": ".py",
   "mimetype": "text/x-python",
   "name": "python",
   "nbconvert_exporter": "python",
   "pygments_lexer": "ipython3",
   "version": "3.9.13"
  },
  "widgets": {
   "application/vnd.jupyter.widget-state+json": {
    "state": {},
    "version_major": 2,
    "version_minor": 0
   }
  }
 },
 "nbformat": 4,
 "nbformat_minor": 4
}

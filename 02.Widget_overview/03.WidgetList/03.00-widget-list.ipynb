{
 "cells": [
  {
   "cell_type": "markdown",
   "metadata": {},
   "source": [
    "# 小部件在核心ipywidgets包中的应用"
   ]
  },
  {
   "cell_type": "markdown",
   "metadata": {},
   "source": [
    "`ipywidgets` 包提供了两个功能：\n",
    "\n",
    "+ 前端（你的浏览器）和后端（Python或其他内核）之间的通信框架。\n",
    "+ 一组基本的用户界面元素，如按钮和复选框。\n",
    "\n",
    "接下来的几个单元格将创建一个浏览器，展示可用的元素。要查看更多有关任何元素的细节，点击其标题。如果你将概览和详细信息分别打开在不同的标签页中，会更容易查看。"
   ]
  },
  {
   "cell_type": "code",
   "execution_count": null,
   "metadata": {},
   "outputs": [],
   "source": [
    "import ipywidgets as widgets\n",
    "from widget_org import organized_widgets, list_overview_widget"
   ]
  },
  {
   "cell_type": "markdown",
   "metadata": {},
   "source": [
    "## 指示\n",
    "\n",
    "运行下面的单元格。点击任何小部件的名称以查看该小部件使用的更详细示例。"
   ]
  },
  {
   "cell_type": "code",
   "execution_count": null,
   "metadata": {},
   "outputs": [],
   "source": [
    "groups = organized_widgets(organize_by='ui')\n",
    "help_url_base='../../reference_guides/complete-ipywidgets-widget-list.ipynb'\n",
    "list_overview_widget(groups, columns=2, min_width_single_widget=200, help_url_base=help_url_base)"
   ]
  },
  {
   "cell_type": "markdown",
   "metadata": {},
   "source": [
    "## 练习\n",
    "\n",
    "你可能没有时间完成所有这些练习。"
   ]
  },
  {
   "cell_type": "markdown",
   "metadata": {},
   "source": [
    "### 1. 修复上一个笔记本中的示例\n",
    "\n",
    "下面的代码来自本教程之前的笔记本。\n",
    "\n",
    "运行下面的代码，然后尝试在文本框中输入一个大于10或小于5的数字。"
   ]
  },
  {
   "cell_type": "code",
   "execution_count": null,
   "metadata": {},
   "outputs": [],
   "source": [
    "slider = widgets.FloatSlider(\n",
    "    value=7.5,\n",
    "    min=5.0,\n",
    "    max=10.0,\n",
    "    step=0.1,\n",
    "    description='Input:',\n",
    ")\n",
    "\n",
    "# Create text box to hold slider value\n",
    "text = widgets.FloatText(description='Value')\n",
    "\n",
    "# Link slider value and text box value\n",
    "widgets.link((slider, 'value'), (text, 'value'))\n",
    "\n",
    "# Put them in a vertical box\n",
    "widgets.VBox([slider, text])"
   ]
  },
  {
   "cell_type": "markdown",
   "metadata": {},
   "source": [
    "请注意，滑块的值是错误的！滑块有最小值和最大值，但文本框没有。\n",
    "\n",
    "将上面代码中的 `FloatText` 替换为一个具有与滑块匹配的最小值和最大值的文本小部件。"
   ]
  },
  {
   "cell_type": "code",
   "execution_count": null,
   "metadata": {},
   "outputs": [],
   "source": [
    "# %load solutions/bounded-float-text.py"
   ]
  },
  {
   "cell_type": "markdown",
   "metadata": {},
   "source": [
    "## 2. 将两个小部件放入一个框中并链接它们\n",
    "\n",
    "将 `Play` 小部件和一个可以容纳整数的小部件（你选择的小部件）放入一个水平框中。"
   ]
  },
  {
   "cell_type": "code",
   "execution_count": null,
   "metadata": {},
   "outputs": [],
   "source": [
    "# %load solutions/widgets-in-a-box.py"
   ]
  },
  {
   "cell_type": "markdown",
   "metadata": {},
   "source": [
    "将上述两个小部件的值链接起来，使得更改其中一个的值会影响另一个的值。"
   ]
  },
  {
   "cell_type": "code",
   "execution_count": null,
   "metadata": {},
   "outputs": [],
   "source": []
  },
  {
   "cell_type": "markdown",
   "metadata": {},
   "source": [
    "## 3. 尝试选项卡或手风琴\n",
    "\n",
    "选择两个或更多小部件，将它们放入不同的选项卡或手风琴中。将每个选项卡或手风琴的名称设置为比默认名称更有意义的名称。"
   ]
  },
  {
   "cell_type": "code",
   "execution_count": null,
   "metadata": {},
   "outputs": [],
   "source": []
  },
  {
   "cell_type": "markdown",
   "metadata": {},
   "source": [
    "通过在下面的单元格中输入正确的代码来设置选定的选项卡或手风琴（提示，查看 `selected_index` 属性）。"
   ]
  },
  {
   "cell_type": "code",
   "execution_count": null,
   "metadata": {},
   "outputs": [],
   "source": []
  }
 ],
 "metadata": {
  "kernelspec": {
   "display_name": "widgets-tutorial",
   "language": "python",
   "name": "widgets-tutorial"
  },
  "language_info": {
   "codemirror_mode": {
    "name": "ipython",
    "version": 3
   },
   "file_extension": ".py",
   "mimetype": "text/x-python",
   "name": "python",
   "nbconvert_exporter": "python",
   "pygments_lexer": "ipython3",
   "version": "3.8.10"
  }
 },
 "nbformat": 4,
 "nbformat_minor": 4
}

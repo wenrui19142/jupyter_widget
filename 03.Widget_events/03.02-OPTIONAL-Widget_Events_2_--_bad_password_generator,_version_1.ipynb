{
 "cells": [
  {
   "cell_type": "markdown",
   "metadata": {},
   "source": [
    "# *可选* 密码生成器：`observe`\n",
    "\n",
    "考虑一个超级简单（而且超级不安全）的密码生成器小部件：给定一个密码长度，由界面中的滑块表示，它构建一个随机字母序列并显示出来。\n",
    "\n",
    "本笔记本演示了如何使用 `observe` 将计算密码的函数与长度滑块连接，但它将计算密码的代码与处理界面生成的事件的代码混合在一起。"
   ]
  },
  {
   "cell_type": "code",
   "execution_count": null,
   "metadata": {},
   "outputs": [],
   "source": [
    "import ipywidgets as widgets"
   ]
  },
  {
   "cell_type": "markdown",
   "metadata": {},
   "source": [
    "## 构建界面（小部件）\n",
    "\n",
    "构建后的界面应如下所示：\n",
    "\n",
    "![Password generator](images/bad-pass-gen-v1.png)\n",
    "\n",
    "将界面由三个基本小部件组成，分别用于标题、（当前未设置的）密码和滑块。\n",
    "\n",
    "在下面的单元格中构建每个基本小部件。"
   ]
  },
  {
   "cell_type": "code",
   "execution_count": null,
   "metadata": {
    "tags": []
   },
   "outputs": [],
   "source": [
    "helpful_title = 0  # Replace with something that displays \"Generated password is:\"\n",
    "password_text = 0  # Replace with something that displays \"No password set\"\n",
    "password_length = 0 # Replace with slider\n"
   ]
  },
  {
   "cell_type": "markdown",
   "metadata": {},
   "source": [
    "将这三个小部件组合成一个单一的小部件...最终的输出应与上面的图像相同。"
   ]
  },
  {
   "cell_type": "code",
   "execution_count": null,
   "metadata": {},
   "outputs": [],
   "source": [
    "password_widget = widgets.VBox(children=[helpful_title, password_text, password_length])\n",
    "password_widget"
   ]
  },
  {
   "cell_type": "code",
   "execution_count": null,
   "metadata": {
    "tags": []
   },
   "outputs": [],
   "source": [
    "# %load solutions/bad-pass-pass1-widgets.py"
   ]
  },
  {
   "cell_type": "markdown",
   "metadata": {},
   "source": [
    "## 计算密码...\n",
    "\n",
    "下面的函数计算密码，并应设置 `password_text` 小部件的值。第一部分已经完成，你只需要添加设置小部件值的那一行代码。"
   ]
  },
  {
   "cell_type": "code",
   "execution_count": null,
   "metadata": {
    "tags": []
   },
   "outputs": [],
   "source": [
    "def calculate_password(change):\n",
    "    import string\n",
    "    from secrets import choice\n",
    "    length = change.new\n",
    "    # Generate a list of random letters of the correct length.\n",
    "    password = ''.join(choice(string.ascii_letters) for _ in range(length))\n",
    "    # Add a line below to set the value of the widget password_text\n"
   ]
  },
  {
   "cell_type": "code",
   "execution_count": null,
   "metadata": {
    "tags": []
   },
   "outputs": [],
   "source": [
    "# %load solutions/bad-pass-pass1-passgen.py"
   ]
  },
  {
   "cell_type": "markdown",
   "metadata": {},
   "source": [
    "## ...并将密码与小部件链接\n",
    "\n",
    "在下面的行中填入代码。当 `password_length` 的值发生变化时，你希望调用 `calculate_password` 函数。这里有一个 [Widget Events](06-Widget_Events.ipynb) 的链接，供你参考。"
   ]
  },
  {
   "cell_type": "code",
   "execution_count": null,
   "metadata": {
    "tags": []
   },
   "outputs": [],
   "source": [
    "# call calculate_password whenever the password length changes\n"
   ]
  },
  {
   "cell_type": "code",
   "execution_count": null,
   "metadata": {
    "tags": []
   },
   "outputs": [],
   "source": [
    "# %load solutions/bad-pass-pass1-observe.py"
   ]
  },
  {
   "cell_type": "markdown",
   "metadata": {},
   "source": [
    "现在连接已建立，试着移动滑块，你应该能看到密码随之更新。"
   ]
  }
 ],
 "metadata": {
  "kernelspec": {
   "display_name": "widgets-tutorial",
   "language": "python",
   "name": "widgets-tutorial"
  },
  "language_info": {
   "codemirror_mode": {
    "name": "ipython",
    "version": 3
   },
   "file_extension": ".py",
   "mimetype": "text/x-python",
   "name": "python",
   "nbconvert_exporter": "python",
   "pygments_lexer": "ipython3",
   "version": "3.8.10"
  }
 },
 "nbformat": 4,
 "nbformat_minor": 4
}

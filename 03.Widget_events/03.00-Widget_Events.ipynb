{
 "cells": [
  {
   "cell_type": "markdown",
   "metadata": {
    "slideshow": {
     "slide_type": "slide"
    }
   },
   "source": [
    "# 小部件事件\n",
    "\n",
    "深入探讨当小部件值变化时如何处理回调和事件。"
   ]
  },
  {
   "cell_type": "code",
   "execution_count": null,
   "metadata": {
    "tags": []
   },
   "outputs": [],
   "source": [
    "import ipywidgets as widgets\n",
    "from IPython.display import display\n",
    "from traitlets import HasTraits"
   ]
  },
  {
   "cell_type": "markdown",
   "metadata": {
    "slideshow": {
     "slide_type": "slide"
    }
   },
   "source": [
    "## Traitlets 事件"
   ]
  },
  {
   "cell_type": "markdown",
   "metadata": {},
   "source": [
    "每个小部件都继承自 traitlets.HasTraits，该类提供了观察值、与其他小部件链接以及值验证的功能。您可以在其 用户指南 中了解更多关于 traitlets 的信息。\n"
   ]
  },
  {
   "cell_type": "markdown",
   "metadata": {},
   "source": [
    "每个 `HasTraits` 类都有一个 `observe` 方法，用于观察属性的变化。你可以指定一个 Python 回调函数，当属性变化时会调用该函数。\n",
    "\n",
    "传递给 `observe` 的回调处理函数将在收到一个变化参数时被调用。变化对象至少包含 `type` 和 `name` 两个键，分别对应通知的类型和触发通知的属性名称。\n",
    "\n",
    "根据 `type` 的值，可能会传递其他键。当 `type` 为 `change` 时，还会有以下键：\n",
    "\n",
    "- `owner`：`HasTraits` 实例\n",
    "- `old`：修改的特征属性的旧值\n",
    "- `new`：修改的特征属性的新值\n",
    "- `name`：修改的特征属性的名称"
   ]
  },
  {
   "cell_type": "markdown",
   "metadata": {},
   "source": [
    "### 在内核中注册回调以处理特征变化\n",
    "\n",
    "由于 `Widget` 类继承自 `HasTraits`，你可以在模型从前端或其他代码接收到更新时，注册处理程序来处理变化事件。\n",
    "\n",
    "为了研究这一点，让我们以之前部分的最终示例为基础，稍作修改，去除 `names=True`。"
   ]
  },
  {
   "cell_type": "code",
   "execution_count": null,
   "metadata": {
    "tags": []
   },
   "outputs": [],
   "source": [
    "# Create and display our widgets\n",
    "slider = widgets.FloatSlider(description='Input:')\n",
    "square_display = widgets.HTML(description=\"Square: \", value='{}'.format(slider.value**2))\n",
    "display(widgets.VBox([slider, square_display]))\n",
    "\n",
    "# Create function to update square_display's value when slider changes\n",
    "def update_square_display(change):\n",
    "    square_display.value = '{}'.format(change.new**2)\n",
    "    \n",
    "\n",
    "slider.observe(update_square_display) # removed names=\"value\"\n",
    "\n"
   ]
  },
  {
   "cell_type": "markdown",
   "metadata": {},
   "source": [
    "## `names` 参数的重要性\n",
    "\n",
    "这没有生效！我们的错误信息去哪儿了？\n",
    "\n",
    "### 在回调中查看错误信息\n",
    "\n",
    "1. JupyterLab 日志控制台\n",
    "2. `widgets.Output()`"
   ]
  },
  {
   "cell_type": "code",
   "execution_count": null,
   "metadata": {
    "tags": []
   },
   "outputs": [],
   "source": [
    "# Create and display our widgets\n",
    "slider = widgets.FloatSlider(description='Input:')\n",
    "square_display = widgets.HTML(description=\"Square: \", value='{}'.format(slider.value**2))\n",
    "display(widgets.VBox([slider, square_display]))\n",
    "\n",
    "\n",
    "# We use an output widget here for capturing the print calls and showing them at the right place in the Notebook\n",
    "output = widgets.Output()\n",
    "display(output)\n",
    "\n",
    "# Create function to update square_display's value when slider changes\n",
    "@output.capture()\n",
    "def update_square_display(change):\n",
    "    print(change)\n",
    "    square_display.value = '{}'.format(change.new**2)\n",
    "    \n",
    "slider.observe(update_square_display) # removed names=\"value\"\n"
   ]
  },
  {
   "cell_type": "markdown",
   "metadata": {},
   "source": [
    "经过调查，我们发现我们收到了 `_property_lock` 特征的通知。这就是为什么使用 `names=` 参数如此重要的原因。"
   ]
  },
  {
   "cell_type": "code",
   "execution_count": null,
   "metadata": {
    "tags": []
   },
   "outputs": [],
   "source": [
    "# Create and display our widgets\n",
    "slider = widgets.FloatSlider(description='Input:')\n",
    "square_display = widgets.HTML(description=\"Square: \", value='{}'.format(slider.value**2))\n",
    "display(widgets.VBox([slider, square_display]))\n",
    "output = widgets.Output()\n",
    "display(output)\n",
    "@output.capture()\n",
    "def update_square_display(change):\n",
    "    print(change)\n",
    "    square_display.value = '{}'.format(change.new**2)\n",
    "\n",
    "    \n",
    "slider.observe(update_square_display, names=\"value\") # added back the names=\"value\"\n"
   ]
  },
  {
   "cell_type": "markdown",
   "metadata": {},
   "source": [
    "这会捕获所有值的变化，而不仅仅是通过鼠标进行的变化。"
   ]
  },
  {
   "cell_type": "code",
   "execution_count": null,
   "metadata": {
    "tags": []
   },
   "outputs": [],
   "source": [
    "slider.value = .3"
   ]
  },
  {
   "cell_type": "markdown",
   "metadata": {},
   "source": [
    "#### `names` 参数的有效值是什么？\n",
    "\n",
    "任何小部件具有的命名特征都可以被观察。你可以通过 `.traits()` 方法查看小部件具有哪些特征。"
   ]
  },
  {
   "cell_type": "code",
   "execution_count": null,
   "metadata": {
    "tags": []
   },
   "outputs": [],
   "source": [
    "slider.traits()"
   ]
  },
  {
   "cell_type": "markdown",
   "metadata": {},
   "source": [
    "### `.value` 和验证\n",
    "\n",
    "大多数 `ipywidgets` 小部件都有一个 `.value` 特征，它对应于它们所表示的数据类型。除了驱动 `observe`，`traitlets` 还会对这些值进行验证和强制转换。因此，如果你尝试将某个值设置为错误的类型，你会收到错误消息，或者该值可能会被强制转换为新的数据类型。"
   ]
  },
  {
   "cell_type": "code",
   "execution_count": null,
   "metadata": {
    "tags": []
   },
   "outputs": [],
   "source": [
    "int_slider = widgets.IntSlider()\n",
    "float_slider = widgets.FloatSlider()\n",
    "\n",
    "# fine\n",
    "float_slider.value = 5.5\n",
    "\n",
    "# Will get rounded to an int\n",
    "int_slider.value = 5.5\n",
    "print(int_slider.value)\n",
    "\n",
    "# raises an error\n",
    "int_slider.value = \"5.5\""
   ]
  },
  {
   "cell_type": "markdown",
   "metadata": {},
   "source": [
    "## 练习\n",
    "\n",
    "使用 `observe` 和 `Output` 小部件，打印出下面 `Textarea` 小部件中的文本字符串的反转。"
   ]
  },
  {
   "cell_type": "code",
   "execution_count": null,
   "metadata": {
    "tags": []
   },
   "outputs": [],
   "source": [
    "text = widgets.Textarea()\n",
    "output = widgets.Output()\n",
    "\n",
    "# ...\n",
    "# ...\n",
    "\n",
    "display(text, output)"
   ]
  },
  {
   "cell_type": "code",
   "execution_count": null,
   "metadata": {
    "tags": []
   },
   "outputs": [],
   "source": [
    "# %load solutions/observe-reverse.py"
   ]
  },
  {
   "cell_type": "markdown",
   "metadata": {},
   "source": [
    "### Should you use `observe` or `link`?"
   ]
  },
  {
   "cell_type": "markdown",
   "metadata": {},
   "source": [
    "何时使用 `observe`\n",
    "\n",
    "`observe` 在你想对不是小部件的东西产生副作用时最为有用（例如，修改 matplotlib 图表或保存文件），或者当你需要获取前一个值的信息时。\n",
    "\n",
    "`link` 是将两个小部件的特征连接在一起的最简单方式。你也可以通过将一个函数传递给 `transform` 参数来转换值。\n"
   ]
  },
  {
   "cell_type": "code",
   "execution_count": null,
   "metadata": {
    "tags": []
   },
   "outputs": [],
   "source": [
    "slider1 = widgets.IntSlider()\n",
    "slider2 = widgets.IntSlider()\n",
    "widgets.link((slider1, \"value\"), (slider2, \"value\"))\n",
    "\n",
    "display(slider1, slider2)"
   ]
  },
  {
   "cell_type": "markdown",
   "metadata": {},
   "source": [
    "你并不限于将 `value` 与 `value` 进行链接。任何具有兼容类型的特征都可以链接。在这个示例中，主滑块的 `min` 值由第二个滑块控制。"
   ]
  },
  {
   "cell_type": "code",
   "execution_count": null,
   "metadata": {
    "tags": []
   },
   "outputs": [],
   "source": [
    "main_slider = widgets.IntSlider(value=3, min=0, max=10, description=\"main slider\")\n",
    "min_slider = widgets.IntSlider(value=0, min = -10, max=10, description=\"min slider\")\n",
    "widgets.link((main_slider, \"min\"), (min_slider, \"value\"))\n",
    "display(widgets.VBox([main_slider, min_slider]))"
   ]
  },
  {
   "cell_type": "markdown",
   "metadata": {},
   "source": [
    "### 练习\n",
    "\n",
    "使用 `widgets.link` 和 `transform` 参数以及两个函数，使得当修改其中一个文本框时，另一个文本框也会更新。"
   ]
  },
  {
   "cell_type": "code",
   "execution_count": null,
   "metadata": {
    "tags": []
   },
   "outputs": [],
   "source": [
    "def C_to_F(temp):\n",
    "    return 1.8 * temp + 32\n",
    "\n",
    "def F_to_C(temp):\n",
    "    return (temp -32) / 1.8\n",
    "\n",
    "degree_C = widgets.FloatText(description='Temp $^\\circ$C', value=0)\n",
    "degree_F = widgets.FloatText(description='Temp $^\\circ$F', value=C_to_F(degree_C.value))\n",
    "\n",
    "display(degree_C, degree_F)"
   ]
  },
  {
   "cell_type": "code",
   "execution_count": null,
   "metadata": {},
   "outputs": [],
   "source": [
    "# %load solutions/temperature-link.py"
   ]
  },
  {
   "cell_type": "markdown",
   "metadata": {},
   "source": [
    "## 高级小部件链接"
   ]
  },
  {
   "cell_type": "markdown",
   "metadata": {},
   "source": [
    "之前你使用了 `link` 将一个小部件的值与另一个小部件的值链接。\n",
    "\n",
    "还有一些其他的链接方法，提供了更多的灵活性：\n",
    "\n",
    "+ `dlink` 是一个 *单向* 链接；更新只会在一个方向上发生，而不会在另一个方向上发生。\n",
    "+ `jslink` 和 `jsdlink` 在前端进行链接\n",
    "    - 尽管链接发生在前端，但 Python 对象仍然会更新它们的值。"
   ]
  },
  {
   "cell_type": "markdown",
   "metadata": {},
   "source": [
    "### 在内核中使用 dlink（即在 Python 中）\n",
    "\n",
    "第一种方法是使用 `link` 和 `dlink`。这仅在我们与活跃的内核交互时有效。"
   ]
  },
  {
   "cell_type": "code",
   "execution_count": null,
   "metadata": {
    "tags": []
   },
   "outputs": [],
   "source": [
    "caption = widgets.HTML(value='Changes in source values are reflected in target1, but changes in target1 do not affect source')\n",
    "source, target1 = widgets.IntSlider(description='Source'),\\\n",
    "                  widgets.IntSlider(description='Target 1')\n",
    "\n",
    "display(caption, source, target1)\n",
    "\n",
    "dl = widgets.dlink((source, 'value'), (target1, 'value'))\n"
   ]
  },
  {
   "cell_type": "markdown",
   "metadata": {},
   "source": [
    "通过调用 `unlink` 可以断开链接。"
   ]
  },
  {
   "cell_type": "code",
   "execution_count": null,
   "metadata": {
    "tags": []
   },
   "outputs": [],
   "source": [
    "dl.unlink()"
   ]
  },
  {
   "cell_type": "markdown",
   "metadata": {},
   "source": [
    "### 从客户端链接小部件属性"
   ]
  },
  {
   "cell_type": "markdown",
   "metadata": {},
   "source": [
    "你还可以使用链接小部件在浏览器中直接链接小部件的属性，可以是单向的或双向的。\n",
    "\n",
    "当将小部件嵌入到没有内核的 HTML 网页中时，JavaScript 链接会保持有效。"
   ]
  },
  {
   "cell_type": "code",
   "execution_count": null,
   "metadata": {},
   "outputs": [],
   "source": [
    "caption = widgets.Label(value='The values of range1 and range2 are synchronized')\n",
    "range1, range2 = widgets.IntSlider(description='Range 1'),\\\n",
    "                 widgets.IntSlider(description='Range 2')\n",
    "\n",
    "display(caption, range1, range2)\n",
    "\n",
    "l = widgets.jslink((range1, 'value'), (range2, 'value'))"
   ]
  },
  {
   "cell_type": "code",
   "execution_count": null,
   "metadata": {},
   "outputs": [],
   "source": [
    "caption = widgets.Label(value='Changes in source_range values are reflected in target_range1')\n",
    "source_range, target_range1 = widgets.IntSlider(description='Source range'),\\\n",
    "                              widgets.IntSlider(description='Target range 1')\n",
    "\n",
    "display(caption, source_range, target_range1)\n",
    "\n",
    "dl = widgets.jsdlink((source_range, 'value'), (target_range1, 'value'))"
   ]
  },
  {
   "cell_type": "markdown",
   "metadata": {},
   "source": [
    "通过调用 `unlink` 方法可以断开链接。"
   ]
  },
  {
   "cell_type": "code",
   "execution_count": null,
   "metadata": {},
   "outputs": [],
   "source": [
    "l.unlink()\n",
    "dl.unlink()"
   ]
  },
  {
   "cell_type": "markdown",
   "metadata": {},
   "source": [
    "### `link` 和 `jslink` 的区别\n",
    "\n",
    "**Python 链接**\n",
    "\n",
    "优点：\n",
    "1. 允许值的转换\n",
    "\n",
    "缺点：\n",
    "1. 性能较差\n",
    "2. 当内核不运行时不会保持有效\n",
    "\n",
    "**客户端链接**\n",
    "\n",
    "优点：\n",
    "1. 无需内核即可工作\n",
    "2. 更快的 GUI 更新\n",
    "\n",
    "缺点：\n",
    "1. 不支持转换\n",
    "\n",
    "有关更详细的区别，请参阅 [文档](https://ipywidgets.readthedocs.io/en/latest/examples/Widget%20Events.html#The-difference-between-linking-in-the-kernel-and-linking-in-the-client)。"
   ]
  },
  {
   "cell_type": "code",
   "execution_count": null,
   "metadata": {
    "tags": []
   },
   "outputs": [],
   "source": [
    "leader = widgets.IntSlider(description=\"leader\")\n",
    "py_follower = widgets.IntSlider(description='python link')\n",
    "js_follower = widgets.IntSlider(description='client link')\n",
    "\n",
    "display(leader, js_follower, py_follower)\n",
    "\n",
    "l_js = widgets.jslink((leader, 'value'), (js_follower, 'value'))\n",
    "l_py = widgets.link((leader, 'value'), (py_follower, 'value'))\n"
   ]
  },
  {
   "cell_type": "markdown",
   "metadata": {},
   "source": [
    "### 连续更新 vs 延迟更新\n",
    "\n",
    "一些小部件提供了 `continuous_update` 属性，可以选择不断更新值，或者仅在用户提交值时更新（例如，按下 Enter 键或离开控件时）。在下一个示例中，我们看到“延迟”控件只有在用户完成滑动滑块或提交文本框后才会传输其值。而“连续”控件在值发生变化时会持续传输其值。尝试在每个文本框中输入一个两位数，或者拖动每个滑块，以查看它们的区别。"
   ]
  },
  {
   "cell_type": "code",
   "execution_count": null,
   "metadata": {
    "tags": []
   },
   "outputs": [],
   "source": [
    "a = widgets.IntSlider(description=\"Delayed\", continuous_update=False)\n",
    "b = widgets.IntText(description=\"Delayed\", continuous_update=False)\n",
    "c = widgets.IntSlider(description=\"Continuous\", continuous_update=True)\n",
    "d = widgets.IntText(description=\"Continuous\", continuous_update=True)\n",
    "\n",
    "widgets.jslink((a, 'value'), (b, 'value'))\n",
    "widgets.jslink((a, 'value'), (c, 'value'))\n",
    "widgets.jslink((a, 'value'), (d, 'value'))\n",
    "widgets.VBox([a,b,c,d])"
   ]
  },
  {
   "cell_type": "markdown",
   "metadata": {},
   "source": [
    "默认 `continuous_update=True` 的小部件：\n",
    "\n",
    "- 滑块\n",
    "- `Text`\n",
    "- `Textarea`\n",
    "\n",
    "默认 `continuous_update=False` 的小部件：\n",
    "\n",
    "- 用于输入数字的文本框（例如 `IntText`）"
   ]
  },
  {
   "cell_type": "markdown",
   "metadata": {},
   "source": [
    "## 特殊事件"
   ]
  },
  {
   "cell_type": "markdown",
   "metadata": {},
   "source": [
    "一些小部件，如 `Button`，具有特殊事件，可以在这些事件上挂钩 Python 回调函数。"
   ]
  },
  {
   "cell_type": "markdown",
   "metadata": {},
   "source": [
    "`Button` 不是用来表示数据类型的。相反，按钮小部件用于处理鼠标点击。`Button` 的 `on_click` 方法可以用来注册一个函数，当按钮被点击时，该函数会被调用。`on_click` 的文档字符串如下所示。"
   ]
  },
  {
   "cell_type": "code",
   "execution_count": null,
   "metadata": {},
   "outputs": [],
   "source": [
    "widgets.Button.on_click?"
   ]
  },
  {
   "cell_type": "markdown",
   "metadata": {
    "slideshow": {
     "slide_type": "slide"
    }
   },
   "source": [
    "### 例子"
   ]
  },
  {
   "cell_type": "markdown",
   "metadata": {},
   "source": [
    "由于按钮点击是无状态的，它们通过自定义消息从前端传输到后端。通过使用 `on_click` 方法，可以显示一个在按钮点击时打印消息的按钮。为了捕获 `print`（或任何其他类型的输出，包括错误）并确保其显示，务必将其发送到 `Output` 小部件（或将你想显示的信息放入 `HTML` 小部件）。"
   ]
  },
  {
   "cell_type": "code",
   "execution_count": null,
   "metadata": {},
   "outputs": [],
   "source": [
    "button = widgets.Button(description=\"Click Me!\")\n",
    "output = widgets.Output()\n",
    "\n",
    "display(button, output)\n",
    "\n",
    "@output.capture()\n",
    "def on_button_clicked(b):\n",
    "    print(\"Button clicked.\")\n",
    "\n",
    "button.on_click(on_button_clicked)"
   ]
  }
 ],
 "metadata": {
  "cell_tags": [
   [
    "<None>",
    null
   ]
  ],
  "kernelspec": {
   "display_name": "Python 3",
   "language": "python",
   "name": "python3"
  },
  "language_info": {
   "codemirror_mode": {
    "name": "ipython",
    "version": 3
   },
   "file_extension": ".py",
   "mimetype": "text/x-python",
   "name": "python",
   "nbconvert_exporter": "python",
   "pygments_lexer": "ipython3",
   "version": "3.8.5"
  },
  "widgets": {
   "application/vnd.jupyter.widget-state+json": {
    "state": {},
    "version_major": 2,
    "version_minor": 0
   }
  }
 },
 "nbformat": 4,
 "nbformat_minor": 4
}

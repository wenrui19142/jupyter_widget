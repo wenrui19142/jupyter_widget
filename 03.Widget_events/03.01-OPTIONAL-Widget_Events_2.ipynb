{
 "cells": [
  {
   "cell_type": "markdown",
   "metadata": {},
   "source": [
    "# *可选* 处理事件的三种方法"
   ]
  },
  {
   "cell_type": "markdown",
   "metadata": {},
   "source": [
    "接下来的系列笔记本将介绍处理小部件事件的三种方式。在每个笔记本中，我们将构建相同的简单密码生成器。\n",
    "\n",
    "第一个方法使用函数和全局变量的混合，类似于介绍小部件事件的笔记本中的方法。\n",
    "\n",
    "第二个方法将密码生成逻辑与密码生成用户界面分开。\n",
    "\n",
    "第三个方法将分离进一步推进，通过使用一个类来表示用户界面，一个类来表示逻辑，再用另一个类将它们结合在一起。"
   ]
  }
 ],
 "metadata": {
  "kernelspec": {
   "display_name": "widgets-tutorial",
   "language": "python",
   "name": "widgets-tutorial"
  },
  "language_info": {
   "codemirror_mode": {
    "name": "ipython",
    "version": 3
   },
   "file_extension": ".py",
   "mimetype": "text/x-python",
   "name": "python",
   "nbconvert_exporter": "python",
   "pygments_lexer": "ipython3",
   "version": "3.7.3"
  }
 },
 "nbformat": 4,
 "nbformat_minor": 4
}
